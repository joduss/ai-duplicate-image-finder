{
 "cells": [
  {
   "cell_type": "markdown",
   "source": [
    "# MODEL 4 - MobileNetV3 with feature vector substraction"
   ],
   "metadata": {
    "collapsed": false,
    "id": "mhMQINmORnkb",
    "pycharm": {
     "name": "#%% md\n"
    }
   }
  },
  {
   "cell_type": "code",
   "execution_count": 1,
   "metadata": {
    "collapsed": true,
    "id": "Jexc3rXPRnkf",
    "pycharm": {
     "name": "#%%\n"
    }
   },
   "outputs": [],
   "source": [
    "from __future__ import absolute_import\n",
    "from __future__ import division\n",
    "from __future__ import print_function\n",
    "\n",
    "import os\n",
    "\n",
    "import pandas as pd\n",
    "import tensorflow as tf\n",
    "import numpy as np\n",
    "import tensorflow.keras as keras\n",
    "from tensorflow.python.data import AUTOTUNE\n",
    "from tensorflow.keras import layers as kl\n",
    "from tensorflow.keras import losses\n",
    "from tensorflow.keras import optimizers\n",
    "from tensorflow.keras import callbacks as cb\n",
    "import tensorflow_addons as tfa\n",
    "\n",
    "\n",
    "\n",
    "if os.getcwd().startswith(\"/Users\"): os.chdir(os.getcwd().split(\"/notebooks\", 1)[0])\n",
    "\n",
    "\n",
    "from src.config.notebook_config import NotebookConfig\n",
    "from src.evaluation.evaluation import Evaluation\n",
    "\n",
    "from src.data.utility.tf_dataset_transformer import TfDatasetTransformer\n",
    "\n",
    "%load_ext autoreload\n",
    "%autoreload 2"
   ]
  },
  {
   "cell_type": "markdown",
   "source": [
    "# Config"
   ],
   "metadata": {
    "collapsed": false,
    "pycharm": {
     "name": "#%% md\n"
    },
    "id": "PFauzCMvRnkj"
   }
  },
  {
   "cell_type": "code",
   "execution_count": 2,
   "outputs": [],
   "source": [
    "MODEL_NAME = \"model_4\"\n",
    "\n",
    "import src.data.dataset.dataset_v3_loader as dataset_loader # V3\n",
    "DATASET_LOADER = dataset_loader\n",
    "\n",
    "config = NotebookConfig(MODEL_NAME, dataset_loader.dataset_name())\n",
    "\n",
    "BATCH_SIZE = 64"
   ],
   "metadata": {
    "pycharm": {
     "name": "#%%\n"
    },
    "id": "q3p-eJizRnkk"
   }
  },
  {
   "cell_type": "markdown",
   "source": [
    "# Data Loading"
   ],
   "metadata": {
    "collapsed": false,
    "id": "hMI6aG4eRnkl",
    "pycharm": {
     "name": "#%% md\n"
    }
   }
  },
  {
   "cell_type": "code",
   "execution_count": 3,
   "outputs": [],
   "source": [
    "train_dataset = DATASET_LOADER.load_train_v3()\n",
    "val_dataset = DATASET_LOADER.load_validation_v3()"
   ],
   "metadata": {
    "pycharm": {
     "name": "#%%\n"
    },
    "id": "CMETsR8gRnkl"
   }
  },
  {
   "cell_type": "code",
   "execution_count": 4,
   "outputs": [
    {
     "name": "stderr",
     "output_type": "stream",
     "text": [
      "2022-04-03 20:31:24.658645: I tensorflow/core/platform/cpu_feature_guard.cc:151] This TensorFlow binary is optimized with oneAPI Deep Neural Network Library (oneDNN) to use the following CPU instructions in performance-critical operations:  AVX2 FMA\n",
      "To enable them in other operations, rebuild TensorFlow with the appropriate compiler flags.\n"
     ]
    }
   ],
   "source": [
    "pair_tuples = list(map(lambda pair: (pair.image_a, pair.image_b, pair.similar), train_dataset.image_pairs))\n",
    "pair_array = np.array(pair_tuples)\n",
    "\n",
    "\n",
    "tf_dataset_transformer =  TfDatasetTransformer(image_shape=config.image_shape)\n",
    "\n",
    "train_tf_dataset = tf_dataset_transformer.transform_to_tf_dataset(train_dataset, shuffle=True, shuffle_buffer_size=512)\\\n",
    "                                         .cache(\"./tf_cache/train_dataset\")\\\n",
    "                                         .batch(BATCH_SIZE)\\\n",
    "                                         .prefetch(AUTOTUNE)\n",
    "\n",
    "val_tf_dataset = tf_dataset_transformer.transform_to_tf_dataset(val_dataset)\\\n",
    "                                         .cache(\"./tf_cache/val_dataset\")\\\n",
    "                                         .batch(128)\\\n",
    "                                         .prefetch(AUTOTUNE)\n"
   ],
   "metadata": {
    "pycharm": {
     "name": "#%%\n"
    },
    "id": "UNtCbfCbRnkm"
   }
  },
  {
   "cell_type": "markdown",
   "source": [
    "# Model"
   ],
   "metadata": {
    "collapsed": false,
    "id": "rgI8zBGYRnkn",
    "pycharm": {
     "name": "#%% md\n"
    }
   }
  },
  {
   "cell_type": "code",
   "execution_count": 23,
   "outputs": [
    {
     "output_type": "stream",
     "name": "stdout",
     "text": [
      "Model: \"model_4\"\n",
      "__________________________________________________________________________________________________\n",
      " Layer (type)                   Output Shape         Param #     Connected to                     \n",
      "==================================================================================================\n",
      " input_21 (InputLayer)          [(None, 224, 224, 3  0           []                               \n",
      "                                )]                                                                \n",
      "                                                                                                  \n",
      " input_22 (InputLayer)          [(None, 224, 224, 3  0           []                               \n",
      "                                )]                                                                \n",
      "                                                                                                  \n",
      " model_5 (Functional)           (None, 3840)         3000192     ['input_21[0][0]',               \n",
      "                                                                  'input_22[0][0]']               \n",
      "                                                                                                  \n",
      " tf.math.subtract_5 (TFOpLambda  (None, 3840)        0           ['model_5[0][0]',                \n",
      " )                                                                'model_5[1][0]']                \n",
      "                                                                                                  \n",
      " tf.math.abs_5 (TFOpLambda)     (None, 3840)         0           ['tf.math.subtract_5[0][0]']     \n",
      "                                                                                                  \n",
      " dense_10 (Dense)               (None, 256)          983296      ['tf.math.abs_5[0][0]']          \n",
      "                                                                                                  \n",
      " dense_11 (Dense)               (None, 1)            257         ['dense_10[0][0]']               \n",
      "                                                                                                  \n",
      "==================================================================================================\n",
      "Total params: 3,983,745\n",
      "Trainable params: 985,473\n",
      "Non-trainable params: 2,998,272\n",
      "__________________________________________________________________________________________________\n"
     ]
    }
   ],
   "source": [
    "def create_common_model() -> keras.Model:\n",
    "    mobnet = keras.applications.MobileNetV3Large(input_shape=config.image_shape.to_shape(), include_top=False, dropout_rate=0.2)\n",
    "    mobnet.trainable = False\n",
    "\n",
    "    input = keras.Input(shape=config.image_shape.to_shape())\n",
    "    x = mobnet(input, training=False)\n",
    "    x = kl.BatchNormalization()(x)\n",
    "    x = kl.Dropout(0.2)(x)\n",
    "    x = kl.MaxPool2D(pool_size=3)(x)\n",
    "    x = kl.Flatten()(x)\n",
    "    return keras.Model(inputs=input, outputs=x)\n",
    "\n",
    "def create_model() -> keras.Model:\n",
    "    input_a = keras.Input(shape=config.image_shape.to_shape())\n",
    "    input_b = keras.Input(shape=config.image_shape.to_shape())\n",
    "\n",
    "    common_model = create_common_model()\n",
    "\n",
    "    layer_a = common_model(input_a)\n",
    "    layer_b = common_model(input_b)\n",
    "\n",
    "    merge_layer = tf.abs(tf.subtract(layer_a, layer_b))\n",
    "    merge_layer = kl.Dense(256, activation=\"relu\")(merge_layer)\n",
    "    merge_layer = kl.Dense(1, activation=\"sigmoid\")(merge_layer)\n",
    "\n",
    "    return keras.Model(inputs=[input_a, input_b], outputs=merge_layer, name=MODEL_NAME)\n",
    "\n",
    "\n",
    "metric_f1 = tfa.metrics.f_scores.F1Score(num_classes=1, average=\"micro\", name=\"f1-micro\")\n",
    "lr_schedule = tf.keras.optimizers.schedules.ExponentialDecay(initial_learning_rate=0.001, decay_steps=727, decay_rate=0.3333)\n",
    "\n",
    "model = create_model()\n",
    "model.compile(\n",
    "    optimizer=optimizers.Adam(learning_rate=lr_schedule), loss=losses.Hinge(), metrics=[\"accuracy\", metric_f1])\n",
    "\n",
    "model.summary()"
   ],
   "metadata": {
    "pycharm": {
     "name": "#%%\n"
    },
    "colab": {
     "base_uri": "https://localhost:8080/"
    },
    "id": "VhSQG_ByRnko",
    "executionInfo": {
     "status": "ok",
     "timestamp": 1648555904238,
     "user_tz": -120,
     "elapsed": 3451,
     "user": {
      "displayName": "Jonathan Duss",
      "userId": "13207458120911013719"
     }
    },
    "outputId": "9607faf6-e812-493a-9a85-fde6bdffe3be"
   }
  },
  {
   "cell_type": "code",
   "execution_count": 24,
   "outputs": [
    {
     "output_type": "execute_result",
     "data": {
      "text/plain": [
       "<IPython.core.display.Image object>"
      ],
      "image/png": "[encoded data removed]"
     },
     "metadata": {},
     "execution_count": 24
    }
   ],
   "source": [
    "keras.utils.plot_model(model, show_shapes=True, expand_nested=False)"
   ],
   "metadata": {
    "pycharm": {
     "name": "#%%\n"
    },
    "colab": {
     "base_uri": "https://localhost:8080/",
     "height": 644
    },
    "id": "f-n9P2vpRnkr",
    "executionInfo": {
     "status": "ok",
     "timestamp": 1648555905129,
     "user_tz": -120,
     "elapsed": 894,
     "user": {
      "displayName": "Jonathan Duss",
      "userId": "13207458120911013719"
     }
    },
    "outputId": "648bfe25-f6ec-4cca-855b-048bd9edf206"
   }
  },
  {
   "cell_type": "code",
   "execution_count": null,
   "outputs": [],
   "source": [
    "save_cb = cb.ModelCheckpoint(config.model_output_path, save_best_only=True)\n",
    "tensorboard_cb = cb.TensorBoard(log_dir=config.tensorboard_log_dir)\n",
    "\n",
    "history = model.fit(train_tf_dataset, epochs=20, workers=8, max_queue_size=20, validation_data=val_tf_dataset, callbacks=[save_cb, tensorboard_cb])\n",
    "\n",
    "pd.DataFrame(history.history).plot()"
   ],
   "metadata": {
    "pycharm": {
     "name": "#%%\n",
     "is_executing": true
    },
    "colab": {
     "base_uri": "https://localhost:8080/",
     "height": 1000
    },
    "id": "OaDl4-TSRnks",
    "outputId": "8883e56d-96e3-45ee-c937-da93abaed191",
    "executionInfo": {
     "status": "error",
     "timestamp": 1648566426454,
     "user_tz": -120,
     "elapsed": 6929234,
     "user": {
      "displayName": "Jonathan Duss",
      "userId": "13207458120911013719"
     }
    }
   }
  },
  {
   "cell_type": "code",
   "execution_count": null,
   "outputs": [],
   "source": [
    "import gc\n",
    "gc.collect(2)#%%"
   ],
   "metadata": {
    "pycharm": {
     "name": "#%%\n"
    },
    "id": "frXmtY62Rnkt"
   }
  },
  {
   "cell_type": "markdown",
   "source": [
    "# Evaluation"
   ],
   "metadata": {
    "collapsed": false,
    "id": "RxbY2edTRnkt",
    "pycharm": {
     "name": "#%% md\n"
    }
   }
  },
  {
   "cell_type": "code",
   "execution_count": 5,
   "outputs": [],
   "source": [
    "model: keras.Model = keras.models.load_model(config.saved_model_path)"
   ],
   "metadata": {
    "pycharm": {
     "name": "#%%\n"
    },
    "id": "2_zUxHzKRnkt"
   }
  },
  {
   "cell_type": "code",
   "execution_count": 6,
   "outputs": [],
   "source": [
    "evaluation = Evaluation(dataset=val_dataset, image_shape=config.image_shape, model=model)"
   ],
   "metadata": {
    "pycharm": {
     "name": "#%%\n"
    },
    "id": "MtoeD-4-Rnku"
   }
  },
  {
   "cell_type": "code",
   "execution_count": null,
   "outputs": [],
   "source": [
    "evaluation.print_f1_report(threshold=0.5)\n",
    "evaluation.print_separate_f1_reports(threshold=0.5)\n",
    "evaluation.plot_roc()"
   ],
   "metadata": {
    "pycharm": {
     "name": "#%%\n",
     "is_executing": true
    },
    "id": "76P-r-BXRnku",
    "outputId": "8b433bee-a606-4d33-9265-79dc521d199a"
   }
  },
  {
   "cell_type": "code",
   "execution_count": null,
   "outputs": [],
   "source": [
    "evaluation.show_images(range(8000, 8100))"
   ],
   "metadata": {
    "pycharm": {
     "name": "#%%\n",
     "is_executing": true
    },
    "id": "Q01MhgiQRnkv"
   }
  },
  {
   "cell_type": "code",
   "execution_count": null,
   "outputs": [],
   "source": [],
   "metadata": {
    "pycharm": {
     "name": "#%%\n"
    },
    "id": "6xPLI26URnkv"
   }
  }
 ],
 "metadata": {
  "kernelspec": {
   "display_name": "Python 3",
   "language": "python",
   "name": "python3"
  },
  "language_info": {
   "codemirror_mode": {
    "name": "ipython",
    "version": 2
   },
   "file_extension": ".py",
   "mimetype": "text/x-python",
   "name": "python",
   "nbconvert_exporter": "python",
   "pygments_lexer": "ipython2",
   "version": "2.7.6"
  },
  "colab": {
   "name": "training_model_4.ipynb",
   "provenance": [],
   "collapsed_sections": [],
   "machine_shape": "hm"
  },
  "accelerator": "GPU"
 },
 "nbformat": 4,
 "nbformat_minor": 0
}