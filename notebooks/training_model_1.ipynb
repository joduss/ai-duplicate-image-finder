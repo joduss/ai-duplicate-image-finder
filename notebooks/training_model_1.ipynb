{
 "cells": [
  {
   "cell_type": "code",
   "execution_count": 11,
   "metadata": {
    "collapsed": true
   },
   "outputs": [
    {
     "name": "stdout",
     "output_type": "stream",
     "text": [
      "The autoreload extension is already loaded. To reload it, use:\n",
      "  %reload_ext autoreload\n"
     ]
    }
   ],
   "source": [
    "from __future__ import absolute_import\n",
    "from __future__ import division\n",
    "from __future__ import print_function\n",
    "\n",
    "import os\n",
    "\n",
    "import keras\n",
    "import pandas as pd\n",
    "import tensorflow as tf\n",
    "import numpy as np\n",
    "from tensorflow.python.data import AUTOTUNE\n",
    "from tensorflow.keras import layers as kl\n",
    "from tensorflow.keras import losses\n",
    "from tensorflow.keras import optimizers\n",
    "from tensorflow.keras import callbacks as cb\n",
    "import sklearn.metrics as skmetrics\n",
    "\n",
    "\n",
    "\n",
    "os.chdir(os.getcwd().replace(\"/notebooks\", \"\") if os.getcwd().startswith(\"/Users\") else \"/content/drive/MyDrive/Colab Notebooks/image_duplicate\")\n",
    "\n",
    "from src.models.euclidian_distance import euclidian_distance\n",
    "from src.data.dataset import loader as dataset_loader\n",
    "\n",
    "from src.visualisations.image_plot import plot_n\n",
    "from src.data.dataset.image_shape import ImageShape\n",
    "from src.data.utility.tf_data_transformer import TfDatasetTransformer\n",
    "\n",
    "%load_ext autoreload\n",
    "%autoreload 2"
   ]
  },
  {
   "cell_type": "markdown",
   "source": [
    "# Config"
   ],
   "metadata": {
    "collapsed": false,
    "pycharm": {
     "name": "#%% md\n"
    }
   }
  },
  {
   "cell_type": "code",
   "execution_count": 2,
   "outputs": [],
   "source": [
    "MODEL_NAME = \"model_1\"\n",
    "\n",
    "DATASET_LOADER = dataset_loader\n",
    "IMAGE_SHAPE = ImageShape(height=224, width=224, depth=3)\n",
    "MODEL_OUTPUT_PATH = f\"./output/{MODEL_NAME}\"\n",
    "\n",
    "BATCH_SIZE = 64"
   ],
   "metadata": {
    "collapsed": false,
    "pycharm": {
     "name": "#%%\n"
    }
   }
  },
  {
   "cell_type": "markdown",
   "source": [
    "# Data Loading"
   ],
   "metadata": {
    "collapsed": false
   }
  },
  {
   "cell_type": "code",
   "execution_count": 12,
   "outputs": [],
   "source": [
    "train_dataset = DATASET_LOADER.load_train_v1()\n",
    "val_dataset = DATASET_LOADER.load_validation_v1()"
   ],
   "metadata": {
    "collapsed": false,
    "pycharm": {
     "name": "#%%\n"
    }
   }
  },
  {
   "cell_type": "code",
   "execution_count": 13,
   "outputs": [],
   "source": [
    "pair_tuples = list(map(lambda pair: (pair.image_a, pair.image_b, pair.similar), train_dataset.image_pairs))\n",
    "pair_array = np.array(pair_tuples)\n",
    "\n",
    "\n",
    "tf_dataset_transformer =  TfDatasetTransformer(image_shape=IMAGE_SHAPE)\n",
    "\n",
    "train_tf_dataset = tf_dataset_transformer.transform_to_tf_dataset(train_dataset, shuffle=True, shuffle_buffer_size=1024)\\\n",
    "                                         .cache()\\\n",
    "                                         .batch(BATCH_SIZE)\\\n",
    "                                         .prefetch(AUTOTUNE)\n",
    "\n",
    "val_tf_dataset = tf_dataset_transformer.transform_to_tf_dataset(val_dataset)\\\n",
    "                                         .cache()\\\n",
    "                                         .batch(128)\\\n",
    "                                         .prefetch(AUTOTUNE)\n"
   ],
   "metadata": {
    "collapsed": false,
    "pycharm": {
     "name": "#%%\n"
    }
   }
  },
  {
   "cell_type": "code",
   "execution_count": 9,
   "outputs": [
    {
     "name": "stderr",
     "output_type": "stream",
     "text": [
      "2022-03-01 20:03:30.991536: W tensorflow/core/kernels/data/cache_dataset_ops.cc:768] The calling iterator did not fully read the dataset being cached. In order to avoid unexpected truncation of the dataset, the partially cached contents of the dataset  will be discarded. This can happen if you have an input pipeline similar to `dataset.cache().take(k).repeat()`. You should use `dataset.take(k).cache().repeat()` instead.\n"
     ]
    },
    {
     "data": {
      "text/plain": "array([[[0., 0., 0.],\n        [0., 0., 0.],\n        [0., 0., 0.],\n        ...,\n        [0., 0., 0.],\n        [0., 0., 0.],\n        [0., 0., 0.]],\n\n       [[0., 0., 0.],\n        [0., 0., 0.],\n        [0., 0., 0.],\n        ...,\n        [0., 0., 0.],\n        [0., 0., 0.],\n        [0., 0., 0.]],\n\n       [[0., 0., 0.],\n        [0., 0., 0.],\n        [0., 0., 0.],\n        ...,\n        [0., 0., 0.],\n        [0., 0., 0.],\n        [0., 0., 0.]],\n\n       ...,\n\n       [[0., 0., 0.],\n        [0., 0., 0.],\n        [0., 0., 0.],\n        ...,\n        [0., 0., 0.],\n        [0., 0., 0.],\n        [0., 0., 0.]],\n\n       [[0., 0., 0.],\n        [0., 0., 0.],\n        [0., 0., 0.],\n        ...,\n        [0., 0., 0.],\n        [0., 0., 0.],\n        [0., 0., 0.]],\n\n       [[0., 0., 0.],\n        [0., 0., 0.],\n        [0., 0., 0.],\n        ...,\n        [0., 0., 0.],\n        [0., 0., 0.],\n        [0., 0., 0.]]], dtype=float32)"
     },
     "execution_count": 9,
     "metadata": {},
     "output_type": "execute_result"
    }
   ],
   "source": [
    "v = next(train_tf_dataset.as_numpy_iterator())[0][0][0]\n",
    "v"
   ],
   "metadata": {
    "collapsed": false,
    "pycharm": {
     "name": "#%%\n"
    }
   }
  },
  {
   "cell_type": "markdown",
   "source": [
    "# Model"
   ],
   "metadata": {
    "collapsed": false
   }
  },
  {
   "cell_type": "code",
   "execution_count": 5,
   "outputs": [
    {
     "name": "stdout",
     "output_type": "stream",
     "text": [
      "Model: \"model_1\"\n",
      "__________________________________________________________________________________________________\n",
      " Layer (type)                   Output Shape         Param #     Connected to                     \n",
      "==================================================================================================\n",
      " input_1 (InputLayer)           [(None, 224, 224, 3  0           []                               \n",
      "                                )]                                                                \n",
      "                                                                                                  \n",
      " input_2 (InputLayer)           [(None, 224, 224, 3  0           []                               \n",
      "                                )]                                                                \n",
      "                                                                                                  \n",
      " model (Functional)             (None, 82944)        9728        ['input_1[0][0]',                \n",
      "                                                                  'input_2[0][0]']                \n",
      "                                                                                                  \n",
      " lambda (Lambda)                (None, 1)            0           ['model[0][0]',                  \n",
      "                                                                  'model[1][0]']                  \n",
      "                                                                                                  \n",
      " dropout (Dropout)              (None, 1)            0           ['lambda[0][0]']                 \n",
      "                                                                                                  \n",
      " dense (Dense)                  (None, 128)          256         ['dropout[0][0]']                \n",
      "                                                                                                  \n",
      " dropout_1 (Dropout)            (None, 128)          0           ['dense[0][0]']                  \n",
      "                                                                                                  \n",
      " dense_1 (Dense)                (None, 1)            129         ['dropout_1[0][0]']              \n",
      "                                                                                                  \n",
      "==================================================================================================\n",
      "Total params: 10,113\n",
      "Trainable params: 9,985\n",
      "Non-trainable params: 128\n",
      "__________________________________________________________________________________________________\n"
     ]
    }
   ],
   "source": [
    "def create_common_model() -> keras.Model:\n",
    "    input = keras.Input(shape=IMAGE_SHAPE.to_shape())\n",
    "    x = kl.Conv2D(filters=64, kernel_size=7, strides=2, padding=\"valid\", activation=\"relu\")(input)\n",
    "    x = kl.BatchNormalization()(x)\n",
    "    x = kl.MaxPool2D(pool_size=3)(x)\n",
    "    x = kl.Flatten()(x)\n",
    "    return keras.Model(inputs=input, outputs=x)\n",
    "\n",
    "def create_model() -> keras.Model:\n",
    "    input_a = keras.Input(shape=IMAGE_SHAPE.to_shape())\n",
    "    input_b = keras.Input(shape=IMAGE_SHAPE.to_shape())\n",
    "\n",
    "    common_model = create_common_model()\n",
    "\n",
    "    layer_a = common_model(input_a)\n",
    "    layer_b = common_model(input_b)\n",
    "\n",
    "    merge_layer = kl.Lambda(euclidian_distance)([layer_a, layer_b])\n",
    "    merge_layer = kl.Dropout(0.25)(merge_layer)\n",
    "    merge_layer = kl.Dense(128, activation=\"relu\")(merge_layer)\n",
    "    merge_layer = kl.Dropout(0.25)(merge_layer)\n",
    "    merge_layer = kl.Dense(1, activation=\"sigmoid\")(merge_layer)\n",
    "\n",
    "    return keras.Model(inputs=[input_a, input_b], outputs=merge_layer)\n",
    "\n",
    "\n",
    "\n",
    "model = create_model()\n",
    "model.compile(\n",
    "    optimizer=optimizers.Adam(), loss=losses.CategoricalHinge(), metrics=\"accuracy\")\n",
    "\n",
    "model.summary()"
   ],
   "metadata": {
    "collapsed": false,
    "pycharm": {
     "name": "#%%\n"
    }
   }
  },
  {
   "cell_type": "code",
   "execution_count": 6,
   "outputs": [
    {
     "name": "stdout",
     "output_type": "stream",
     "text": [
      "Epoch 1/3\n",
      "5/5 [==============================] - ETA: 0s - loss: 0.9050 - accuracy: 0.4875"
     ]
    },
    {
     "name": "stderr",
     "output_type": "stream",
     "text": [
      "2022-03-02 22:12:40.405008: W tensorflow/python/util/util.cc:368] Sets are not currently considered sequences, but this may change in the future, so consider avoiding using them.\n"
     ]
    },
    {
     "name": "stdout",
     "output_type": "stream",
     "text": [
      "INFO:tensorflow:Assets written to: ./output/model_1/model1/assets\n",
      "5/5 [==============================] - 148s 36s/step - loss: 0.9050 - accuracy: 0.4875 - val_loss: 0.8724 - val_accuracy: 0.7159\n",
      "Epoch 2/3\n",
      "5/5 [==============================] - 54s 13s/step - loss: 0.8817 - accuracy: 0.5063 - val_loss: 0.8842 - val_accuracy: 0.7179\n",
      "Epoch 3/3\n",
      "5/5 [==============================] - 53s 13s/step - loss: 0.8510 - accuracy: 0.5125 - val_loss: 0.9032 - val_accuracy: 0.7221\n"
     ]
    },
    {
     "name": "stderr",
     "output_type": "stream",
     "text": [
      "2022-03-02 22:14:28.290938: W tensorflow/core/kernels/data/cache_dataset_ops.cc:768] The calling iterator did not fully read the dataset being cached. In order to avoid unexpected truncation of the dataset, the partially cached contents of the dataset  will be discarded. This can happen if you have an input pipeline similar to `dataset.cache().take(k).repeat()`. You should use `dataset.take(k).cache().repeat()` instead.\n"
     ]
    },
    {
     "data": {
      "text/plain": "<AxesSubplot:>"
     },
     "execution_count": 6,
     "metadata": {},
     "output_type": "execute_result"
    },
    {
     "data": {
      "text/plain": "<Figure size 432x288 with 1 Axes>",
      "image/png": "[encoded data removed]"
     },
     "metadata": {
      "needs_background": "light"
     },
     "output_type": "display_data"
    }
   ],
   "source": [
    "save_cb = cb.ModelCheckpoint(MODEL_OUTPUT_PATH, save_best_only=True)\n",
    "\n",
    "history = model.fit(train_tf_dataset, epochs=3, workers=8, max_queue_size=20, steps_per_epoch=5, validation_data=val_tf_dataset, callbacks=[save_cb])\n",
    "\n",
    "pd.DataFrame(history.history).plot()"
   ],
   "metadata": {
    "collapsed": false,
    "pycharm": {
     "name": "#%%\n"
    }
   }
  },
  {
   "cell_type": "code",
   "execution_count": 17,
   "outputs": [
    {
     "data": {
      "text/plain": "6296"
     },
     "execution_count": 17,
     "metadata": {},
     "output_type": "execute_result"
    }
   ],
   "source": [
    "import gc\n",
    "gc.collect(2)#%%"
   ],
   "metadata": {
    "collapsed": false,
    "pycharm": {
     "name": "#%%\n"
    }
   }
  },
  {
   "cell_type": "markdown",
   "source": [
    "# Evaluation"
   ],
   "metadata": {
    "collapsed": false
   }
  },
  {
   "cell_type": "code",
   "execution_count": 10,
   "outputs": [
    {
     "name": "stdout",
     "output_type": "stream",
     "text": [
      "84/84 [==============================] - 48s 571ms/step\n"
     ]
    }
   ],
   "source": [
    "model: keras.Model = keras.models.load_model(MODEL_OUTPUT_PATH)\n",
    "predictions = model.predict(val_tf_dataset, workers=8, verbose=1)\n"
   ],
   "metadata": {
    "collapsed": false,
    "pycharm": {
     "name": "#%%\n"
    }
   }
  },
  {
   "cell_type": "code",
   "execution_count": 17,
   "outputs": [
    {
     "name": "stdout",
     "output_type": "stream",
     "text": [
      "              precision    recall  f1-score   support\n",
      "\n",
      "       False       0.62      1.00      0.77      4987\n",
      "        True       1.00      0.47      0.64      5737\n",
      "\n",
      "    accuracy                           0.72     10724\n",
      "   macro avg       0.81      0.73      0.70     10724\n",
      "weighted avg       0.82      0.72      0.70     10724\n",
      "\n"
     ]
    }
   ],
   "source": [
    "print(skmetrics.classification_report(val_dataset.similarities(), predictions > 0.5))"
   ],
   "metadata": {
    "collapsed": false,
    "pycharm": {
     "name": "#%%\n"
    }
   }
  },
  {
   "cell_type": "code",
   "execution_count": null,
   "outputs": [],
   "source": [],
   "metadata": {
    "collapsed": false,
    "pycharm": {
     "name": "#%%\n"
    }
   }
  }
 ],
 "metadata": {
  "kernelspec": {
   "display_name": "Python 3",
   "language": "python",
   "name": "python3"
  },
  "language_info": {
   "codemirror_mode": {
    "name": "ipython",
    "version": 2
   },
   "file_extension": ".py",
   "mimetype": "text/x-python",
   "name": "python",
   "nbconvert_exporter": "python",
   "pygments_lexer": "ipython2",
   "version": "2.7.6"
  }
 },
 "nbformat": 4,
 "nbformat_minor": 0
}